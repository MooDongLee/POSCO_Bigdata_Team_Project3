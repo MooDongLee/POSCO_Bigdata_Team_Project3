{
 "cells": [
  {
   "cell_type": "code",
   "execution_count": 1,
   "id": "bc139d8a",
   "metadata": {},
   "outputs": [],
   "source": [
    "import pandas as pd\n",
    "import numpy as np\n",
    "import seaborn as sns\n",
    "from matplotlib import rc\n",
    "import matplotlib.pyplot as plt\n",
    "import matplotlib\n",
    "matplotlib.rc('font', family = 'Malgun Gothic')\n",
    "\n",
    "import scipy.stats\n",
    "from scipy.stats import shapiro\n",
    "from scipy.stats import bartlett, levene\n",
    "\n",
    "import warnings\n",
    "warnings.filterwarnings('ignore')"
   ]
  },
  {
   "cell_type": "code",
   "execution_count": 2,
   "id": "7d2e1d8a",
   "metadata": {},
   "outputs": [],
   "source": [
    "df_broadcasting = pd.read_csv(\"C:/Users/tomy8/POSCOOOOOOOOO/빅데이터/조별프로젝트/code/Broad_Casting.csv\")\n",
    "df_crewgroup = pd.read_csv(\"C:/Users/tomy8/POSCOOOOOOOOO/빅데이터/조별프로젝트/code/Crew_group.csv\")\n",
    "df_product = pd.read_csv(\"C:/Users/tomy8/POSCOOOOOOOOO/빅데이터/조별프로젝트/code/Product.csv\")"
   ]
  },
  {
   "cell_type": "code",
   "execution_count": 3,
   "id": "b4822092",
   "metadata": {},
   "outputs": [],
   "source": [
    "# 최종 데이터셋 구축\n",
    "def model_data(df1,df2,df3):\n",
    "    # data 병합\n",
    "    df1['방송Code'] = df2['방송Code']\n",
    "    \n",
    "    방송1 = df1.loc[:,['방송Code','채널','소요분','가중분','방송구분','프로그램명']]\n",
    "    방송2 = df2.loc[:,['PD','SH','TD']]\n",
    "    방송12 = pd.concat([방송1, 방송2], axis=1)\n",
    "    \n",
    "    상품1 = df1.loc[:,~df1.columns.isin(['방송Code','채널','소요분','가중분','방송구분','프로그램명'])]\n",
    "    상품2 = df2.loc[:,['MD담당자명','부서코드','부서명','협력사ID','협력사명']]\n",
    "    상품12 = pd.concat([상품1, 상품2], axis=1)\n",
    "    df_bc = pd.concat([방송12,상품12],axis=1)\n",
    "    \n",
    "    제품1 = df3.loc[:,['상품ID','브랜드명','대분류','중분류','소분류','세분류','카테고리']]\n",
    "    df_total = pd.merge(제품1, df_bc, how='right', on='상품ID')\n",
    "    \n",
    "    # 이상치 변환\n",
    "    df_total = df_total.replace({'상품방송순번':63},6)\n",
    "    df_total = df_total.replace({'상품방송순번':12},2)\n",
    "    df_total = df_total.replace({'ARS금액':2},0)\n",
    "    df_total = df_total.replace({'ARS금액':2},0) \n",
    "    df_total = df_total.replace({'카테고리':'이미용_기타'},'이미용')\n",
    "    \n",
    "    for i in range(len(df_total)):\n",
    "        if df_total['판매단가'][i] == 0:\n",
    "            df_total['판매단가'][i] = df_total['상품주문금액'][i] / df_total['상품주문수량'][i]\n",
    "        \n",
    "    # 필요없는 열 제거\n",
    "    df_total = df_total.drop(['소분류','세분류','채널','매입과세구분','협력사명','방송종료시간'], axis=1 ,inplace=False)\n",
    "    \n",
    "    # 필요없는 행 제거\n",
    "    nodata1 = df_total[df_total['상품명'].str.contains('사용금지')].index\n",
    "    df_total.drop(nodata1, inplace=True)\n",
    "    nodata2 = df_total[df_total['상품명'].str.contains('미사용')].index\n",
    "    df_total.drop(nodata2, inplace=True)    \n",
    "    \n",
    "    # 중복 행 제거\n",
    "    df_total.drop_duplicates(['방송Code'] , keep='first', inplace=True, ignore_index=False)\n",
    "    \n",
    "    # 파생변수 생성\n",
    "    df_total['Date'] = pd.to_datetime(df_total['방송시작시간'])\n",
    "    df_total['year'] = df_total['Date'].dt.year\n",
    "    df_total['month'] = df_total['Date'].dt.month\n",
    "    df_total['day'] = df_total['Date'].dt.day\n",
    "    df_total['hour'] = df_total['Date'].dt.hour\n",
    "    df_total['weekday'] = df_total['Date'].dt.weekday\n",
    "    df_total['yearmonth'] = df_total['Date'].dt.year.astype(str) + df_total['Date'].dt.month.astype(str)\n",
    "    df_total = df_total.replace({'yearmonth':'20201'},'202001')\n",
    "    df_total = df_total.replace({'yearmonth':'20202'},'202002')\n",
    "    df_total = df_total.replace({'yearmonth':'20203'},'202003')\n",
    "    df_total = df_total.replace({'yearmonth':'20204'},'202004')\n",
    "    df_total = df_total.replace({'yearmonth':'20205'},'202005')\n",
    "    df_total = df_total.replace({'yearmonth':'20206'},'202006')\n",
    "    df_total = df_total.replace({'yearmonth':'20207'},'202007')\n",
    "    df_total = df_total.replace({'yearmonth':'20208'},'202008')\n",
    "    df_total = df_total.replace({'yearmonth':'20209'},'202009')\n",
    "    \n",
    "    df_total = df_total.replace({'yearmonth':'20211'},'202101')\n",
    "    df_total = df_total.replace({'yearmonth':'20212'},'202102')\n",
    "    df_total = df_total.replace({'yearmonth':'20213'},'202103')\n",
    "    df_total = df_total.replace({'yearmonth':'20214'},'202104')\n",
    "    df_total = df_total.replace({'yearmonth':'20215'},'202105')\n",
    "    df_total = df_total.replace({'yearmonth':'20216'},'202106')\n",
    "    df_total = df_total.replace({'yearmonth':'20217'},'202107')\n",
    "    df_total = df_total.replace({'yearmonth':'20218'},'202108')\n",
    "    df_total = df_total.replace({'yearmonth':'20219'},'202109')\n",
    "    \n",
    "    df_total = df_total.replace({'weekday':0},'월요일')\n",
    "    df_total = df_total.replace({'weekday':1},'화요일')\n",
    "    df_total = df_total.replace({'weekday':2},'수요일')\n",
    "    df_total = df_total.replace({'weekday':3},'목요일')\n",
    "    df_total = df_total.replace({'weekday':4},'금요일')\n",
    "    df_total = df_total.replace({'weekday':5},'토요일')\n",
    "    df_total = df_total.replace({'weekday':6},'일요일')\n",
    "    \n",
    "    df_total['상품가중치'] = df_total['상품가중분'] / df_total['상품소요분']\n",
    "    df_total['홈쇼핑 수수료'] = df_total['판매단가'] * (df_total['수수료율'] / 100)\n",
    "    df_total['최종주문수량'] = df_total['상품주문수량'] - df_total['상품취소수량']\n",
    "    df_total['매출'] = df_total['홈쇼핑 수수료'] * df_total['최종주문수량']\n",
    "    \n",
    "    df_total['구매의사철회율'] = (df_total['상품취소수량'] / df_total['상품주문수량']) * 100\n",
    "    df_total['구매의사철회율'] = df_total['구매의사철회율'].fillna(0)\n",
    "    \n",
    "    bins = [0,2,5,8,11,12]\n",
    "    labels = ['winter','spring','summer','autumn','winter']\n",
    "    df_total['season'] =  pd.cut(df_total['month'],bins, right=True,labels=labels,ordered=False)\n",
    "    df_total.reset_index(drop=True,inplace=True)\n",
    "    \n",
    "    목표달성 = df_total[ df_total['상품목표주문금액'] < df_total['상품주문금액'] ]\n",
    "    cate = df_total.groupby('카테고리')['방송Code'].count()\n",
    "    MD1 = df_total.groupby(['MD담당자명','카테고리'],as_index=False)['방송Code'].count()\n",
    "    MD2 = 목표달성.groupby(['MD담당자명','카테고리'],as_index=False)['방송Code'].count()\n",
    "    MD = pd.merge(MD1, MD2, how='left', on=('MD담당자명','카테고리'))\n",
    "    MD.fillna(0,inplace=True)\n",
    "    MD.rename(columns={'방송Code_x':'총 방송 건수','방송Code_y':'목표 달성 건수'},inplace=True)\n",
    "    MD = pd.merge(MD,cate, how='left', on=('카테고리'))\n",
    "    MD.rename(columns={'방송Code':'카테고리 별 총 방송 건수'},inplace=True)\n",
    "    MD['가중치'] = MD['총 방송 건수'] / MD['카테고리 별 총 방송 건수']\n",
    "    MD['MD 역량'] = (MD['목표 달성 건수'] / MD['총 방송 건수']) * 100 * MD['가중치']\n",
    "    MD.drop(['총 방송 건수','목표 달성 건수','카테고리 별 총 방송 건수','가중치'],axis=1, inplace=True)\n",
    "    SH1 = df_total.groupby(['SH','카테고리'],as_index=False)['방송Code'].count()\n",
    "    SH2 = 목표달성.groupby(['SH','카테고리'],as_index=False)['방송Code'].count()\n",
    "    SH = pd.merge(SH1, SH2, how='left', on=('SH','카테고리'))\n",
    "    SH.fillna(0,inplace=True)\n",
    "    SH.rename(columns={'방송Code_x':'총 방송 건수','방송Code_y':'목표 달성 건수'},inplace=True)\n",
    "    SH = pd.merge(SH,cate, how='left', on=('카테고리'))\n",
    "    SH.rename(columns={'방송Code':'카테고리 별 총 방송 건수'},inplace=True)\n",
    "    SH['가중치'] = SH['총 방송 건수'] / SH['카테고리 별 총 방송 건수']\n",
    "    SH['SH 역량'] = (SH['목표 달성 건수'] / SH['총 방송 건수']) * 100  * SH['가중치']\n",
    "    SH.drop(['총 방송 건수','목표 달성 건수','카테고리 별 총 방송 건수','가중치'],axis=1, inplace=True)\n",
    "    PD1 = df_total.groupby(['PD','카테고리'],as_index=False)['방송Code'].count()\n",
    "    PD2 = 목표달성.groupby(['PD','카테고리'],as_index=False)['방송Code'].count()\n",
    "    PD = pd.merge(PD1, PD2, how='left', on=('PD','카테고리'))\n",
    "    PD.fillna(0,inplace=True)\n",
    "    PD.rename(columns={'방송Code_x':'총 방송 건수','방송Code_y':'목표 달성 건수'},inplace=True)\n",
    "    PD = pd.merge(PD,cate, how='left', on=('카테고리'))\n",
    "    PD.rename(columns={'방송Code':'카테고리 별 총 방송 건수'},inplace=True)\n",
    "    PD['가중치'] = PD['총 방송 건수'] / PD['카테고리 별 총 방송 건수']\n",
    "    PD['PD 역량'] = (PD['목표 달성 건수'] / PD['총 방송 건수']) * 100  * PD['가중치']\n",
    "    PD.drop(['총 방송 건수','목표 달성 건수','카테고리 별 총 방송 건수','가중치'],axis=1, inplace=True)    \n",
    "    TD1 = df_total.groupby(['TD','카테고리'],as_index=False)['방송Code'].count()\n",
    "    TD2 = 목표달성.groupby(['TD','카테고리'],as_index=False)['방송Code'].count()\n",
    "    TD = pd.merge(TD1, TD2, how='left', on=('TD','카테고리'))\n",
    "    TD.fillna(0,inplace=True)\n",
    "    TD.rename(columns={'방송Code_x':'총 방송 건수','방송Code_y':'목표 달성 건수'},inplace=True)\n",
    "    TD = pd.merge(TD,cate, how='left', on=('카테고리'))\n",
    "    TD.rename(columns={'방송Code':'카테고리 별 총 방송 건수'},inplace=True)\n",
    "    TD['가중치'] = TD['총 방송 건수'] / TD['카테고리 별 총 방송 건수']\n",
    "    TD['TD 역량'] = (TD['목표 달성 건수'] / TD['총 방송 건수']) * 100 * TD['가중치']\n",
    "    TD.drop(['총 방송 건수','목표 달성 건수','카테고리 별 총 방송 건수','가중치'],axis=1, inplace=True)    \n",
    "    df_total = pd.merge(df_total,PD, how='left',on=('PD','카테고리'))\n",
    "    df_total = pd.merge(df_total,SH, how='left',on=('SH','카테고리'))\n",
    "    df_total = pd.merge(df_total,TD, how='left',on=('TD','카테고리'))\n",
    "    df_total = pd.merge(df_total,MD, how='left',on=('MD담당자명','카테고리'))\n",
    "    df_total['제작진역량'] = df_total['PD 역량']*0.3 + df_total['SH 역량']*0.3 + df_total['TD 역량']*0.1 + df_total['MD 역량']*0.3\n",
    "    \n",
    "    final_df = df_total\n",
    "    return final_df\n",
    "    "
   ]
  },
  {
   "cell_type": "code",
   "execution_count": 4,
   "id": "2d0e5d09",
   "metadata": {},
   "outputs": [],
   "source": [
    "df = model_data(df_broadcasting, df_crewgroup, df_product)"
   ]
  },
  {
   "cell_type": "code",
   "execution_count": 5,
   "id": "f4c4653f",
   "metadata": {},
   "outputs": [],
   "source": [
    "sort_df = df.sort_values(ascending=False,by='제작진역량')\n",
    "yu_df = sort_df[sort_df['중분류'] != '무형상품']\n",
    "mu_df = sort_df[sort_df['중분류'] == '무형상품']\n",
    "yu_df = yu_df[['카테고리','상품명','PD','SH','TD','MD담당자명','제작진역량']]\n",
    "mu_df = mu_df[['카테고리','상품명','PD','SH','TD','MD담당자명','제작진역량']]"
   ]
  },
  {
   "cell_type": "code",
   "execution_count": 6,
   "id": "4802f40d",
   "metadata": {},
   "outputs": [],
   "source": [
    "df.drop(['상품ID','브랜드명','대분류','중분류','방송Code','소요분','가중분','프로그램명'],axis=1,inplace=True)\n",
    "df.drop(['상품명','매입형태','배송방식','부서코드','협력사ID'],axis=1,inplace=True)"
   ]
  },
  {
   "cell_type": "code",
   "execution_count": 7,
   "id": "9eb712b1",
   "metadata": {},
   "outputs": [
    {
     "data": {
      "text/plain": [
       "Index(['카테고리', '방송구분', 'PD', 'SH', 'TD', '상품목표취급금액', '상품목표주문금액', '판매단가',\n",
       "       '수수료율', '상품주문수량', '상품주문금액', '상품취소수량', '상품취소금액', 'ARS금액', '상품소요분',\n",
       "       '상품가중분', '상품방송순번', '방송시작시간', 'MD담당자명', '부서명', 'Date', 'year', 'month',\n",
       "       'day', 'hour', 'weekday', 'yearmonth', '상품가중치', '홈쇼핑 수수료', '최종주문수량',\n",
       "       '매출', '구매의사철회율', 'season', 'PD 역량', 'SH 역량', 'TD 역량', 'MD 역량', '제작진역량'],\n",
       "      dtype='object')"
      ]
     },
     "execution_count": 7,
     "metadata": {},
     "output_type": "execute_result"
    }
   ],
   "source": [
    "df.columns"
   ]
  },
  {
   "cell_type": "code",
   "execution_count": 8,
   "id": "22a6859b",
   "metadata": {},
   "outputs": [
    {
     "data": {
      "text/html": [
       "<div>\n",
       "<style scoped>\n",
       "    .dataframe tbody tr th:only-of-type {\n",
       "        vertical-align: middle;\n",
       "    }\n",
       "\n",
       "    .dataframe tbody tr th {\n",
       "        vertical-align: top;\n",
       "    }\n",
       "\n",
       "    .dataframe thead th {\n",
       "        text-align: right;\n",
       "    }\n",
       "</style>\n",
       "<table border=\"1\" class=\"dataframe\">\n",
       "  <thead>\n",
       "    <tr style=\"text-align: right;\">\n",
       "      <th></th>\n",
       "      <th></th>\n",
       "      <th>0</th>\n",
       "    </tr>\n",
       "    <tr>\n",
       "      <th>yearmonth</th>\n",
       "      <th>카테고리</th>\n",
       "      <th></th>\n",
       "    </tr>\n",
       "  </thead>\n",
       "  <tbody>\n",
       "    <tr>\n",
       "      <th rowspan=\"5\" valign=\"top\">202001</th>\n",
       "      <th>가공농산</th>\n",
       "      <td>52</td>\n",
       "    </tr>\n",
       "    <tr>\n",
       "      <th>가공수산</th>\n",
       "      <td>29</td>\n",
       "    </tr>\n",
       "    <tr>\n",
       "      <th>가공축산</th>\n",
       "      <td>50</td>\n",
       "    </tr>\n",
       "    <tr>\n",
       "      <th>가전</th>\n",
       "      <td>29</td>\n",
       "    </tr>\n",
       "    <tr>\n",
       "      <th>건강식품</th>\n",
       "      <td>84</td>\n",
       "    </tr>\n",
       "    <tr>\n",
       "      <th>...</th>\n",
       "      <th>...</th>\n",
       "      <td>...</td>\n",
       "    </tr>\n",
       "    <tr>\n",
       "      <th rowspan=\"5\" valign=\"top\">202111</th>\n",
       "      <th>이미용</th>\n",
       "      <td>5</td>\n",
       "    </tr>\n",
       "    <tr>\n",
       "      <th>인테리어</th>\n",
       "      <td>29</td>\n",
       "    </tr>\n",
       "    <tr>\n",
       "      <th>잡화</th>\n",
       "      <td>11</td>\n",
       "    </tr>\n",
       "    <tr>\n",
       "      <th>주방용품</th>\n",
       "      <td>46</td>\n",
       "    </tr>\n",
       "    <tr>\n",
       "      <th>침구</th>\n",
       "      <td>81</td>\n",
       "    </tr>\n",
       "  </tbody>\n",
       "</table>\n",
       "<p>512 rows × 1 columns</p>\n",
       "</div>"
      ],
      "text/plain": [
       "                 0\n",
       "yearmonth 카테고리    \n",
       "202001    가공농산  52\n",
       "          가공수산  29\n",
       "          가공축산  50\n",
       "          가전    29\n",
       "          건강식품  84\n",
       "...             ..\n",
       "202111    이미용    5\n",
       "          인테리어  29\n",
       "          잡화    11\n",
       "          주방용품  46\n",
       "          침구    81\n",
       "\n",
       "[512 rows x 1 columns]"
      ]
     },
     "execution_count": 8,
     "metadata": {},
     "output_type": "execute_result"
    }
   ],
   "source": [
    "df_co = df.groupby(['yearmonth', '카테고리']).size()\n",
    "df_co = pd.DataFrame(df_co)\n",
    "df_co"
   ]
  },
  {
   "cell_type": "code",
   "execution_count": 9,
   "id": "88d7d664",
   "metadata": {},
   "outputs": [
    {
     "data": {
      "text/plain": [
       "yearmonth  카테고리\n",
       "202001     가공농산    52\n",
       "           가공수산    29\n",
       "           가공축산    50\n",
       "           가전      29\n",
       "           건강식품    84\n",
       "                   ..\n",
       "202111     이미용      5\n",
       "           인테리어    29\n",
       "           잡화      11\n",
       "           주방용품    46\n",
       "           침구      81\n",
       "Name: 0, Length: 512, dtype: int64"
      ]
     },
     "execution_count": 9,
     "metadata": {},
     "output_type": "execute_result"
    }
   ],
   "source": [
    "df_co[0]"
   ]
  },
  {
   "cell_type": "code",
   "execution_count": 10,
   "id": "392239ea",
   "metadata": {},
   "outputs": [
    {
     "data": {
      "text/plain": [
       "0          의류\n",
       "1        건강식품\n",
       "2        건강식품\n",
       "3        가공농산\n",
       "4        신선수산\n",
       "         ... \n",
       "26111      가전\n",
       "26112      가전\n",
       "26113      가전\n",
       "26114    건강식품\n",
       "26115    가공수산\n",
       "Name: 카테고리, Length: 26116, dtype: object"
      ]
     },
     "execution_count": 10,
     "metadata": {},
     "output_type": "execute_result"
    }
   ],
   "source": [
    "df['카테고리']"
   ]
  },
  {
   "cell_type": "code",
   "execution_count": 11,
   "id": "7440e616",
   "metadata": {},
   "outputs": [
    {
     "data": {
      "text/plain": [
       "yearmonth\n",
       "202001    1140\n",
       "202002    1061\n",
       "202003    1156\n",
       "202004    1090\n",
       "202005    1112\n",
       "202006    1064\n",
       "202007    1098\n",
       "202008    1175\n",
       "202009    1057\n",
       "202010    1179\n",
       "202011    1127\n",
       "202012    1131\n",
       "202101    1089\n",
       "202102    1030\n",
       "202103    1158\n",
       "202104    1213\n",
       "202105    1249\n",
       "202106    1188\n",
       "202107    1323\n",
       "202108    1329\n",
       "202109    1282\n",
       "202110    1329\n",
       "202111     536\n",
       "Name: 카테고리, dtype: int64"
      ]
     },
     "execution_count": 11,
     "metadata": {},
     "output_type": "execute_result"
    }
   ],
   "source": [
    "df_year = df.groupby('yearmonth')['카테고리'].count()\n",
    "df_year"
   ]
  },
  {
   "cell_type": "code",
   "execution_count": 12,
   "id": "ad6d1217",
   "metadata": {},
   "outputs": [
    {
     "data": {
      "image/png": "[encoded data removed]",
      "text/plain": [
       "<Figure size 720x504 with 1 Axes>"
      ]
     },
     "metadata": {
      "needs_background": "light"
     },
     "output_type": "display_data"
    }
   ],
   "source": [
    "ex1 = df[df['yearmonth'] == '202010'].value_counts('카테고리')\n",
    "ex1[ex1>60].plot.bar(figsize=(10,7),  color = ['gray', 'gray', 'gray', 'gray', 'gray', 'gray', 'gray', 'gray'])\n",
    "plt.ylabel('카테고리')\n",
    "plt.savefig('202010.png')"
   ]
  },
  {
   "cell_type": "code",
   "execution_count": 55,
   "id": "8aa3e3b0",
   "metadata": {},
   "outputs": [
    {
     "ename": "AttributeError",
     "evalue": "'DataFrame' object has no attribute 'color'",
     "output_type": "error",
     "traceback": [
      "\u001b[1;31m---------------------------------------------------------------------------\u001b[0m",
      "\u001b[1;31mAttributeError\u001b[0m                            Traceback (most recent call last)",
      "\u001b[1;32m~\\AppData\\Local\\Temp/ipykernel_29256/1432215315.py\u001b[0m in \u001b[0;36m<module>\u001b[1;34m\u001b[0m\n\u001b[0;32m      2\u001b[0m \u001b[0mseason_order\u001b[0m \u001b[1;33m=\u001b[0m \u001b[1;33m[\u001b[0m\u001b[1;34m'spring'\u001b[0m\u001b[1;33m,\u001b[0m\u001b[1;34m'summer'\u001b[0m\u001b[1;33m,\u001b[0m\u001b[1;34m'autumn'\u001b[0m\u001b[1;33m,\u001b[0m\u001b[1;34m'winter'\u001b[0m\u001b[1;33m]\u001b[0m\u001b[1;33m\u001b[0m\u001b[1;33m\u001b[0m\u001b[0m\n\u001b[0;32m      3\u001b[0m \u001b[0mdf_pivot\u001b[0m \u001b[1;33m=\u001b[0m \u001b[0mdf_pivot\u001b[0m\u001b[1;33m.\u001b[0m\u001b[0mloc\u001b[0m\u001b[1;33m[\u001b[0m\u001b[0mseason_order\u001b[0m\u001b[1;33m]\u001b[0m\u001b[1;33m\u001b[0m\u001b[1;33m\u001b[0m\u001b[0m\n\u001b[1;32m----> 4\u001b[1;33m \u001b[0mdf_pivot\u001b[0m \u001b[1;33m=\u001b[0m \u001b[0mdf_pivot\u001b[0m\u001b[1;33m.\u001b[0m\u001b[0mcolor\u001b[0m\u001b[1;33m[\u001b[0m\u001b[1;34m'red'\u001b[0m\u001b[1;33m,\u001b[0m \u001b[1;34m'red'\u001b[0m\u001b[1;33m,\u001b[0m\u001b[1;34m'red'\u001b[0m\u001b[1;33m,\u001b[0m \u001b[1;34m'gray'\u001b[0m\u001b[1;33m]\u001b[0m\u001b[1;33m\u001b[0m\u001b[1;33m\u001b[0m\u001b[0m\n\u001b[0m\u001b[0;32m      5\u001b[0m \u001b[0mdf_pivot\u001b[0m\u001b[1;33m[\u001b[0m\u001b[1;33m[\u001b[0m\u001b[1;34m'의류'\u001b[0m\u001b[1;33m]\u001b[0m\u001b[1;33m]\u001b[0m\u001b[1;33m.\u001b[0m\u001b[0mplot\u001b[0m\u001b[1;33m.\u001b[0m\u001b[0mbar\u001b[0m\u001b[1;33m(\u001b[0m\u001b[1;33m)\u001b[0m\u001b[1;33m\u001b[0m\u001b[1;33m\u001b[0m\u001b[0m\n",
      "\u001b[1;32m~\\anaconda3\\lib\\site-packages\\pandas\\core\\generic.py\u001b[0m in \u001b[0;36m__getattr__\u001b[1;34m(self, name)\u001b[0m\n\u001b[0;32m   5485\u001b[0m         ):\n\u001b[0;32m   5486\u001b[0m             \u001b[1;32mreturn\u001b[0m \u001b[0mself\u001b[0m\u001b[1;33m[\u001b[0m\u001b[0mname\u001b[0m\u001b[1;33m]\u001b[0m\u001b[1;33m\u001b[0m\u001b[1;33m\u001b[0m\u001b[0m\n\u001b[1;32m-> 5487\u001b[1;33m         \u001b[1;32mreturn\u001b[0m \u001b[0mobject\u001b[0m\u001b[1;33m.\u001b[0m\u001b[0m__getattribute__\u001b[0m\u001b[1;33m(\u001b[0m\u001b[0mself\u001b[0m\u001b[1;33m,\u001b[0m \u001b[0mname\u001b[0m\u001b[1;33m)\u001b[0m\u001b[1;33m\u001b[0m\u001b[1;33m\u001b[0m\u001b[0m\n\u001b[0m\u001b[0;32m   5488\u001b[0m \u001b[1;33m\u001b[0m\u001b[0m\n\u001b[0;32m   5489\u001b[0m     \u001b[1;32mdef\u001b[0m \u001b[0m__setattr__\u001b[0m\u001b[1;33m(\u001b[0m\u001b[0mself\u001b[0m\u001b[1;33m,\u001b[0m \u001b[0mname\u001b[0m\u001b[1;33m:\u001b[0m \u001b[0mstr\u001b[0m\u001b[1;33m,\u001b[0m \u001b[0mvalue\u001b[0m\u001b[1;33m)\u001b[0m \u001b[1;33m->\u001b[0m \u001b[1;32mNone\u001b[0m\u001b[1;33m:\u001b[0m\u001b[1;33m\u001b[0m\u001b[1;33m\u001b[0m\u001b[0m\n",
      "\u001b[1;31mAttributeError\u001b[0m: 'DataFrame' object has no attribute 'color'"
     ]
    }
   ],
   "source": [
    "df_pivot = df.pivot_table(index='season',columns='카테고리',values='매출')\n",
    "season_order = ['spring','summer','autumn','winter']\n",
    "df_pivot = df_pivot.loc[season_order]\n",
    "df_pivot = df_pivot\n",
    "df_pivot[['의류']].plot.bar(color = )"
   ]
  },
  {
   "cell_type": "code",
   "execution_count": 68,
   "id": "c64985a4",
   "metadata": {},
   "outputs": [
    {
     "data": {
      "text/plain": [
       "<bound method DataFrame.info of 카테고리            가공농산          가공수산          가공축산            가전          건강식품  \\\n",
       "season                                                                         \n",
       "spring  1.526639e+07  2.146166e+07  1.587233e+07  1.744187e+07  1.493767e+07   \n",
       "summer  1.402468e+07  1.873887e+07  1.916888e+07  1.854230e+07  1.819010e+07   \n",
       "autumn  1.515795e+07  2.007419e+07  2.104250e+07  1.663373e+07  1.985716e+07   \n",
       "winter  1.397865e+07  2.079429e+07  1.962473e+07  1.887321e+07  1.592860e+07   \n",
       "\n",
       "카테고리           레포츠기기         레포츠의류         문화서비스            보석        상생_공산품  \\\n",
       "season                                                                         \n",
       "spring  2.039085e+07  1.311825e+07  1.691731e+07  7.195577e+06  1.513665e+06   \n",
       "summer  1.592150e+07  1.290053e+07  1.984255e+07  6.248087e+06  2.326454e+06   \n",
       "autumn  1.044734e+07  1.251819e+07  1.726365e+07  5.827063e+06  1.410174e+06   \n",
       "winter  1.965154e+07  1.207038e+07  1.740220e+07  1.165085e+07  1.227990e+06   \n",
       "\n",
       "카테고리    ...          신선농산          신선수산          신선축산          언더웨어  \\\n",
       "season  ...                                                           \n",
       "spring  ...  1.418476e+07  1.417671e+07  1.140455e+07  1.564235e+07   \n",
       "summer  ...  1.510718e+07  1.635736e+07  1.573993e+07  1.101641e+07   \n",
       "autumn  ...  1.802042e+07  1.762758e+07  1.510554e+07  7.530946e+06   \n",
       "winter  ...  1.517459e+07  1.480546e+07  1.544792e+07  1.338329e+07   \n",
       "\n",
       "카테고리              의류           이미용          인테리어            잡화          주방용품  \\\n",
       "season                                                                         \n",
       "spring  2.839286e+07  9.996507e+06  7.844696e+06  1.184133e+07  1.089907e+07   \n",
       "summer  2.607233e+07  9.966526e+06  5.243893e+06  1.348549e+07  1.165358e+07   \n",
       "autumn  2.504736e+07  1.177207e+07  9.114328e+06  1.414227e+07  1.208671e+07   \n",
       "winter  3.191998e+07  1.139906e+07  8.142422e+06  1.508264e+07  1.218941e+07   \n",
       "\n",
       "카테고리              침구  \n",
       "season                \n",
       "spring  7.488514e+06  \n",
       "summer  5.759865e+06  \n",
       "autumn  6.511192e+06  \n",
       "winter  7.432703e+06  \n",
       "\n",
       "[4 rows x 23 columns]>"
      ]
     },
     "execution_count": 68,
     "metadata": {},
     "output_type": "execute_result"
    }
   ],
   "source": [
    "df_pivot.info"
   ]
  },
  {
   "cell_type": "code",
   "execution_count": 63,
   "id": "f9392b5b",
   "metadata": {},
   "outputs": [
    {
     "ename": "ValueError",
     "evalue": "shape mismatch: objects cannot be broadcast to a single shape",
     "output_type": "error",
     "traceback": [
      "\u001b[1;31m---------------------------------------------------------------------------\u001b[0m",
      "\u001b[1;31mValueError\u001b[0m                                Traceback (most recent call last)",
      "\u001b[1;32m~\\AppData\\Local\\Temp/ipykernel_29256/695075661.py\u001b[0m in \u001b[0;36m<module>\u001b[1;34m\u001b[0m\n\u001b[1;32m----> 1\u001b[1;33m \u001b[0mplt\u001b[0m\u001b[1;33m.\u001b[0m\u001b[0mbar\u001b[0m\u001b[1;33m(\u001b[0m\u001b[0mx\u001b[0m \u001b[1;33m=\u001b[0m \u001b[0mdf_pivot\u001b[0m\u001b[1;33m[\u001b[0m\u001b[1;33m(\u001b[0m\u001b[1;34m'의류'\u001b[0m\u001b[1;33m)\u001b[0m\u001b[1;33m]\u001b[0m\u001b[1;33m,\u001b[0m \u001b[0mheight\u001b[0m \u001b[1;33m=\u001b[0m \u001b[0mdf\u001b[0m\u001b[1;33m[\u001b[0m\u001b[1;33m(\u001b[0m\u001b[1;34m'매출'\u001b[0m\u001b[1;33m)\u001b[0m\u001b[1;33m]\u001b[0m\u001b[1;33m)\u001b[0m\u001b[1;33m\u001b[0m\u001b[1;33m\u001b[0m\u001b[0m\n\u001b[0m",
      "\u001b[1;32m~\\anaconda3\\lib\\site-packages\\matplotlib\\pyplot.py\u001b[0m in \u001b[0;36mbar\u001b[1;34m(x, height, width, bottom, align, data, **kwargs)\u001b[0m\n\u001b[0;32m   2649\u001b[0m         \u001b[0mx\u001b[0m\u001b[1;33m,\u001b[0m \u001b[0mheight\u001b[0m\u001b[1;33m,\u001b[0m \u001b[0mwidth\u001b[0m\u001b[1;33m=\u001b[0m\u001b[1;36m0.8\u001b[0m\u001b[1;33m,\u001b[0m \u001b[0mbottom\u001b[0m\u001b[1;33m=\u001b[0m\u001b[1;32mNone\u001b[0m\u001b[1;33m,\u001b[0m \u001b[1;33m*\u001b[0m\u001b[1;33m,\u001b[0m \u001b[0malign\u001b[0m\u001b[1;33m=\u001b[0m\u001b[1;34m'center'\u001b[0m\u001b[1;33m,\u001b[0m\u001b[1;33m\u001b[0m\u001b[1;33m\u001b[0m\u001b[0m\n\u001b[0;32m   2650\u001b[0m         data=None, **kwargs):\n\u001b[1;32m-> 2651\u001b[1;33m     return gca().bar(\n\u001b[0m\u001b[0;32m   2652\u001b[0m         \u001b[0mx\u001b[0m\u001b[1;33m,\u001b[0m \u001b[0mheight\u001b[0m\u001b[1;33m,\u001b[0m \u001b[0mwidth\u001b[0m\u001b[1;33m=\u001b[0m\u001b[0mwidth\u001b[0m\u001b[1;33m,\u001b[0m \u001b[0mbottom\u001b[0m\u001b[1;33m=\u001b[0m\u001b[0mbottom\u001b[0m\u001b[1;33m,\u001b[0m \u001b[0malign\u001b[0m\u001b[1;33m=\u001b[0m\u001b[0malign\u001b[0m\u001b[1;33m,\u001b[0m\u001b[1;33m\u001b[0m\u001b[1;33m\u001b[0m\u001b[0m\n\u001b[0;32m   2653\u001b[0m         **({\"data\": data} if data is not None else {}), **kwargs)\n",
      "\u001b[1;32m~\\anaconda3\\lib\\site-packages\\matplotlib\\__init__.py\u001b[0m in \u001b[0;36minner\u001b[1;34m(ax, data, *args, **kwargs)\u001b[0m\n\u001b[0;32m   1359\u001b[0m     \u001b[1;32mdef\u001b[0m \u001b[0minner\u001b[0m\u001b[1;33m(\u001b[0m\u001b[0max\u001b[0m\u001b[1;33m,\u001b[0m \u001b[1;33m*\u001b[0m\u001b[0margs\u001b[0m\u001b[1;33m,\u001b[0m \u001b[0mdata\u001b[0m\u001b[1;33m=\u001b[0m\u001b[1;32mNone\u001b[0m\u001b[1;33m,\u001b[0m \u001b[1;33m**\u001b[0m\u001b[0mkwargs\u001b[0m\u001b[1;33m)\u001b[0m\u001b[1;33m:\u001b[0m\u001b[1;33m\u001b[0m\u001b[1;33m\u001b[0m\u001b[0m\n\u001b[0;32m   1360\u001b[0m         \u001b[1;32mif\u001b[0m \u001b[0mdata\u001b[0m \u001b[1;32mis\u001b[0m \u001b[1;32mNone\u001b[0m\u001b[1;33m:\u001b[0m\u001b[1;33m\u001b[0m\u001b[1;33m\u001b[0m\u001b[0m\n\u001b[1;32m-> 1361\u001b[1;33m             \u001b[1;32mreturn\u001b[0m \u001b[0mfunc\u001b[0m\u001b[1;33m(\u001b[0m\u001b[0max\u001b[0m\u001b[1;33m,\u001b[0m \u001b[1;33m*\u001b[0m\u001b[0mmap\u001b[0m\u001b[1;33m(\u001b[0m\u001b[0msanitize_sequence\u001b[0m\u001b[1;33m,\u001b[0m \u001b[0margs\u001b[0m\u001b[1;33m)\u001b[0m\u001b[1;33m,\u001b[0m \u001b[1;33m**\u001b[0m\u001b[0mkwargs\u001b[0m\u001b[1;33m)\u001b[0m\u001b[1;33m\u001b[0m\u001b[1;33m\u001b[0m\u001b[0m\n\u001b[0m\u001b[0;32m   1362\u001b[0m \u001b[1;33m\u001b[0m\u001b[0m\n\u001b[0;32m   1363\u001b[0m         \u001b[0mbound\u001b[0m \u001b[1;33m=\u001b[0m \u001b[0mnew_sig\u001b[0m\u001b[1;33m.\u001b[0m\u001b[0mbind\u001b[0m\u001b[1;33m(\u001b[0m\u001b[0max\u001b[0m\u001b[1;33m,\u001b[0m \u001b[1;33m*\u001b[0m\u001b[0margs\u001b[0m\u001b[1;33m,\u001b[0m \u001b[1;33m**\u001b[0m\u001b[0mkwargs\u001b[0m\u001b[1;33m)\u001b[0m\u001b[1;33m\u001b[0m\u001b[1;33m\u001b[0m\u001b[0m\n",
      "\u001b[1;32m~\\anaconda3\\lib\\site-packages\\matplotlib\\axes\\_axes.py\u001b[0m in \u001b[0;36mbar\u001b[1;34m(self, x, height, width, bottom, align, **kwargs)\u001b[0m\n\u001b[0;32m   2302\u001b[0m                 \u001b[0myerr\u001b[0m \u001b[1;33m=\u001b[0m \u001b[0mself\u001b[0m\u001b[1;33m.\u001b[0m\u001b[0m_convert_dx\u001b[0m\u001b[1;33m(\u001b[0m\u001b[0myerr\u001b[0m\u001b[1;33m,\u001b[0m \u001b[0my0\u001b[0m\u001b[1;33m,\u001b[0m \u001b[0my\u001b[0m\u001b[1;33m,\u001b[0m \u001b[0mself\u001b[0m\u001b[1;33m.\u001b[0m\u001b[0mconvert_yunits\u001b[0m\u001b[1;33m)\u001b[0m\u001b[1;33m\u001b[0m\u001b[1;33m\u001b[0m\u001b[0m\n\u001b[0;32m   2303\u001b[0m \u001b[1;33m\u001b[0m\u001b[0m\n\u001b[1;32m-> 2304\u001b[1;33m         x, height, width, y, linewidth, hatch = np.broadcast_arrays(\n\u001b[0m\u001b[0;32m   2305\u001b[0m             \u001b[1;31m# Make args iterable too.\u001b[0m\u001b[1;33m\u001b[0m\u001b[1;33m\u001b[0m\u001b[0m\n\u001b[0;32m   2306\u001b[0m             np.atleast_1d(x), height, width, y, linewidth, hatch)\n",
      "\u001b[1;32m<__array_function__ internals>\u001b[0m in \u001b[0;36mbroadcast_arrays\u001b[1;34m(*args, **kwargs)\u001b[0m\n",
      "\u001b[1;32m~\\anaconda3\\lib\\site-packages\\numpy\\lib\\stride_tricks.py\u001b[0m in \u001b[0;36mbroadcast_arrays\u001b[1;34m(subok, *args)\u001b[0m\n\u001b[0;32m    536\u001b[0m     \u001b[0margs\u001b[0m \u001b[1;33m=\u001b[0m \u001b[1;33m[\u001b[0m\u001b[0mnp\u001b[0m\u001b[1;33m.\u001b[0m\u001b[0marray\u001b[0m\u001b[1;33m(\u001b[0m\u001b[0m_m\u001b[0m\u001b[1;33m,\u001b[0m \u001b[0mcopy\u001b[0m\u001b[1;33m=\u001b[0m\u001b[1;32mFalse\u001b[0m\u001b[1;33m,\u001b[0m \u001b[0msubok\u001b[0m\u001b[1;33m=\u001b[0m\u001b[0msubok\u001b[0m\u001b[1;33m)\u001b[0m \u001b[1;32mfor\u001b[0m \u001b[0m_m\u001b[0m \u001b[1;32min\u001b[0m \u001b[0margs\u001b[0m\u001b[1;33m]\u001b[0m\u001b[1;33m\u001b[0m\u001b[1;33m\u001b[0m\u001b[0m\n\u001b[0;32m    537\u001b[0m \u001b[1;33m\u001b[0m\u001b[0m\n\u001b[1;32m--> 538\u001b[1;33m     \u001b[0mshape\u001b[0m \u001b[1;33m=\u001b[0m \u001b[0m_broadcast_shape\u001b[0m\u001b[1;33m(\u001b[0m\u001b[1;33m*\u001b[0m\u001b[0margs\u001b[0m\u001b[1;33m)\u001b[0m\u001b[1;33m\u001b[0m\u001b[1;33m\u001b[0m\u001b[0m\n\u001b[0m\u001b[0;32m    539\u001b[0m \u001b[1;33m\u001b[0m\u001b[0m\n\u001b[0;32m    540\u001b[0m     \u001b[1;32mif\u001b[0m \u001b[0mall\u001b[0m\u001b[1;33m(\u001b[0m\u001b[0marray\u001b[0m\u001b[1;33m.\u001b[0m\u001b[0mshape\u001b[0m \u001b[1;33m==\u001b[0m \u001b[0mshape\u001b[0m \u001b[1;32mfor\u001b[0m \u001b[0marray\u001b[0m \u001b[1;32min\u001b[0m \u001b[0margs\u001b[0m\u001b[1;33m)\u001b[0m\u001b[1;33m:\u001b[0m\u001b[1;33m\u001b[0m\u001b[1;33m\u001b[0m\u001b[0m\n",
      "\u001b[1;32m~\\anaconda3\\lib\\site-packages\\numpy\\lib\\stride_tricks.py\u001b[0m in \u001b[0;36m_broadcast_shape\u001b[1;34m(*args)\u001b[0m\n\u001b[0;32m    418\u001b[0m     \u001b[1;31m# use the old-iterator because np.nditer does not handle size 0 arrays\u001b[0m\u001b[1;33m\u001b[0m\u001b[1;33m\u001b[0m\u001b[0m\n\u001b[0;32m    419\u001b[0m     \u001b[1;31m# consistently\u001b[0m\u001b[1;33m\u001b[0m\u001b[1;33m\u001b[0m\u001b[0m\n\u001b[1;32m--> 420\u001b[1;33m     \u001b[0mb\u001b[0m \u001b[1;33m=\u001b[0m \u001b[0mnp\u001b[0m\u001b[1;33m.\u001b[0m\u001b[0mbroadcast\u001b[0m\u001b[1;33m(\u001b[0m\u001b[1;33m*\u001b[0m\u001b[0margs\u001b[0m\u001b[1;33m[\u001b[0m\u001b[1;33m:\u001b[0m\u001b[1;36m32\u001b[0m\u001b[1;33m]\u001b[0m\u001b[1;33m)\u001b[0m\u001b[1;33m\u001b[0m\u001b[1;33m\u001b[0m\u001b[0m\n\u001b[0m\u001b[0;32m    421\u001b[0m     \u001b[1;31m# unfortunately, it cannot handle 32 or more arguments directly\u001b[0m\u001b[1;33m\u001b[0m\u001b[1;33m\u001b[0m\u001b[0m\n\u001b[0;32m    422\u001b[0m     \u001b[1;32mfor\u001b[0m \u001b[0mpos\u001b[0m \u001b[1;32min\u001b[0m \u001b[0mrange\u001b[0m\u001b[1;33m(\u001b[0m\u001b[1;36m32\u001b[0m\u001b[1;33m,\u001b[0m \u001b[0mlen\u001b[0m\u001b[1;33m(\u001b[0m\u001b[0margs\u001b[0m\u001b[1;33m)\u001b[0m\u001b[1;33m,\u001b[0m \u001b[1;36m31\u001b[0m\u001b[1;33m)\u001b[0m\u001b[1;33m:\u001b[0m\u001b[1;33m\u001b[0m\u001b[1;33m\u001b[0m\u001b[0m\n",
      "\u001b[1;31mValueError\u001b[0m: shape mismatch: objects cannot be broadcast to a single shape"
     ]
    },
    {
     "data": {
      "image/png": "[encoded data removed]",
      "text/plain": [
       "<Figure size 432x288 with 1 Axes>"
      ]
     },
     "metadata": {
      "needs_background": "light"
     },
     "output_type": "display_data"
    }
   ],
   "source": [
    "plt.bar(x = df_pivot[('의류')], height = df_pivot[('매출')])"
   ]
  },
  {
   "cell_type": "code",
   "execution_count": 23,
   "id": "b48946db",
   "metadata": {},
   "outputs": [
    {
     "data": {
      "text/plain": [
       "<AxesSubplot:xlabel='season'>"
      ]
     },
     "execution_count": 23,
     "metadata": {},
     "output_type": "execute_result"
    },
    {
     "data": {
      "image/png": "[encoded data removed]",
      "text/plain": [
       "<Figure size 432x288 with 1 Axes>"
      ]
     },
     "metadata": {
      "needs_background": "light"
     },
     "output_type": "display_data"
    }
   ],
   "source": [
    "df_pivot = df.pivot_table(index='season',columns='카테고리',values='최종주문수량')\n",
    "season_order = ['spring','summer','autumn','winter']\n",
    "df_pivot = df_pivot.loc[season_order]\n",
    "df_pivot[['의류']].plot.bar()"
   ]
  },
  {
   "cell_type": "code",
   "execution_count": 19,
   "id": "1fbfdab9",
   "metadata": {},
   "outputs": [
    {
     "data": {
      "text/plain": [
       "<AxesSubplot:xlabel='season'>"
      ]
     },
     "execution_count": 19,
     "metadata": {},
     "output_type": "execute_result"
    },
    {
     "data": {
      "image/png": "[encoded data removed]",
      "text/plain": [
       "<Figure size 432x288 with 1 Axes>"
      ]
     },
     "metadata": {
      "needs_background": "light"
     },
     "output_type": "display_data"
    }
   ],
   "source": [
    "df_pivot = df.pivot_table(index='season',columns='카테고리',values='매출')\n",
    "df_pivot[['가전']].plot.bar()"
   ]
  },
  {
   "cell_type": "code",
   "execution_count": 20,
   "id": "acda11a6",
   "metadata": {},
   "outputs": [
    {
     "data": {
      "text/plain": [
       "<AxesSubplot:xlabel='season'>"
      ]
     },
     "execution_count": 20,
     "metadata": {},
     "output_type": "execute_result"
    },
    {
     "data": {
      "image/png": "[encoded data removed]",
      "text/plain": [
       "<Figure size 432x288 with 1 Axes>"
      ]
     },
     "metadata": {
      "needs_background": "light"
     },
     "output_type": "display_data"
    }
   ],
   "source": [
    "df_pivot = df.pivot_table(index='season',columns='카테고리',values='최종주문수량')\n",
    "df_pivot[['가전']].plot.bar()"
   ]
  },
  {
   "cell_type": "code",
   "execution_count": null,
   "id": "d4db9305",
   "metadata": {},
   "outputs": [],
   "source": []
  },
  {
   "cell_type": "code",
   "execution_count": null,
   "id": "1bba9de3",
   "metadata": {},
   "outputs": [],
   "source": []
  },
  {
   "cell_type": "code",
   "execution_count": null,
   "id": "baf50128",
   "metadata": {},
   "outputs": [],
   "source": []
  },
  {
   "cell_type": "code",
   "execution_count": null,
   "id": "ad17718b",
   "metadata": {},
   "outputs": [],
   "source": []
  },
  {
   "cell_type": "code",
   "execution_count": null,
   "id": "664f5bc8",
   "metadata": {},
   "outputs": [],
   "source": []
  },
  {
   "cell_type": "code",
   "execution_count": null,
   "id": "7bd33565",
   "metadata": {},
   "outputs": [],
   "source": []
  },
  {
   "cell_type": "code",
   "execution_count": null,
   "id": "f97fffc3",
   "metadata": {},
   "outputs": [],
   "source": []
  },
  {
   "cell_type": "code",
   "execution_count": null,
   "id": "752e0ecc",
   "metadata": {},
   "outputs": [],
   "source": []
  },
  {
   "cell_type": "code",
   "execution_count": null,
   "id": "6d1261cc",
   "metadata": {},
   "outputs": [],
   "source": []
  },
  {
   "cell_type": "code",
   "execution_count": null,
   "id": "30a41819",
   "metadata": {},
   "outputs": [],
   "source": []
  },
  {
   "cell_type": "code",
   "execution_count": 120,
   "id": "408ac58d",
   "metadata": {},
   "outputs": [
    {
     "data": {
      "image/png": "[encoded data removed]",
      "text/plain": [
       "<Figure size 720x504 with 1 Axes>"
      ]
     },
     "metadata": {
      "needs_background": "light"
     },
     "output_type": "display_data"
    }
   ],
   "source": [
    "ex1 = df[df['yearmonth'] == '202012'].value_counts('카테고리')\n",
    "ex1[ex1>60].plot.bar(figsize=(10,7),  color = ['gray', 'gray', 'gray', 'gray', 'red', 'red', 'gray', 'gray', 'gray'])\n",
    "plt.ylabel('카테고리')\n",
    "plt.savefig('202012.png')"
   ]
  },
  {
   "cell_type": "code",
   "execution_count": 121,
   "id": "96b49e72",
   "metadata": {},
   "outputs": [
    {
     "data": {
      "image/png": "[encoded data removed]",
      "text/plain": [
       "<Figure size 720x504 with 1 Axes>"
      ]
     },
     "metadata": {
      "needs_background": "light"
     },
     "output_type": "display_data"
    }
   ],
   "source": [
    "ex1 = df[df['yearmonth'] == '202104'].value_counts('카테고리')\n",
    "ex1[ex1>80].plot.bar(figsize=(10,7) , color = ['gray', 'gray', 'gray', 'gray', 'gray', 'gray'])\n",
    "plt.ylabel('카테고리')\n",
    "plt.savefig('202104.png')"
   ]
  },
  {
   "cell_type": "code",
   "execution_count": 126,
   "id": "bed445ac",
   "metadata": {},
   "outputs": [
    {
     "data": {
      "image/png": "[encoded data removed]",
      "text/plain": [
       "<Figure size 720x504 with 1 Axes>"
      ]
     },
     "metadata": {
      "needs_background": "light"
     },
     "output_type": "display_data"
    }
   ],
   "source": [
    "ex1 = df[df['yearmonth'] == '202105'].value_counts('카테고리')\n",
    "ex1[ex1>79].plot.bar(figsize=(10,7), color = ['gray', 'gray', 'gray', 'gray', 'red', 'red'])\n",
    "plt.ylabel('카테고리')\n",
    "plt.savefig('202105.png')"
   ]
  },
  {
   "cell_type": "code",
   "execution_count": 111,
   "id": "55dc66fb",
   "metadata": {},
   "outputs": [
    {
     "data": {
      "image/png": "[encoded data removed]",
      "text/plain": [
       "<Figure size 720x504 with 1 Axes>"
      ]
     },
     "metadata": {
      "needs_background": "light"
     },
     "output_type": "display_data"
    }
   ],
   "source": [
    "ex1 = df[df['yearmonth'] == '202109'].value_counts('카테고리')\n",
    "ex1[ex1>80].plot.bar(figsize=(10,7),  color = ['gray', 'gray', 'gray', 'gray', 'red', 'red'])\n",
    "plt.ylabel('카테고리')\n",
    "plt.savefig('202109.png')"
   ]
  },
  {
   "cell_type": "code",
   "execution_count": 112,
   "id": "578291d3",
   "metadata": {},
   "outputs": [
    {
     "data": {
      "image/png": "[encoded data removed]",
      "text/plain": [
       "<Figure size 720x504 with 1 Axes>"
      ]
     },
     "metadata": {
      "needs_background": "light"
     },
     "output_type": "display_data"
    }
   ],
   "source": [
    "ex1 = df[df['yearmonth'] == '202110'].value_counts('카테고리')\n",
    "ex1[ex1>80].plot.bar(figsize=(10,7),  color = ['gray', 'gray', 'gray', 'gray', 'red', 'red'])\n",
    "plt.ylabel('카테고리')\n",
    "plt.savefig('202110.png')"
   ]
  },
  {
   "cell_type": "code",
   "execution_count": null,
   "id": "ccc73491",
   "metadata": {},
   "outputs": [],
   "source": [
    "df.to_csv(\"C:/Users/alstj/OneDrive/바탕 화면/total.csv\",index=False, encoding='euc-kr')"
   ]
  },
  {
   "cell_type": "code",
   "execution_count": 101,
   "id": "0e22e5d1",
   "metadata": {},
   "outputs": [
    {
     "data": {
      "text/plain": [
       "season  카테고리  매출          \n",
       "autumn  가공농산  0.000000e+00    1\n",
       "              7.400800e+02    0\n",
       "              9.950000e+02    0\n",
       "              1.032000e+03    0\n",
       "              1.440000e+03    0\n",
       "                             ..\n",
       "winter  침구    1.361978e+08    0\n",
       "              1.400490e+08    0\n",
       "              1.438450e+08    0\n",
       "              1.551112e+08    0\n",
       "              1.929165e+08    0\n",
       "Length: 2017008, dtype: int64"
      ]
     },
     "execution_count": 101,
     "metadata": {},
     "output_type": "execute_result"
    }
   ],
   "source": [
    "df_ma = df.groupby(['season','카테고리','매출']).size()"
   ]
  },
  {
   "cell_type": "code",
   "execution_count": 144,
   "id": "200ec72f",
   "metadata": {},
   "outputs": [
    {
     "data": {
      "text/plain": [
       "yearmonth\n",
       "202001    1.765328e+10\n",
       "202002    1.646001e+10\n",
       "202003    1.656046e+10\n",
       "202004    1.566425e+10\n",
       "202005    1.698883e+10\n",
       "202006    1.620838e+10\n",
       "202007    1.529683e+10\n",
       "202008    1.614349e+10\n",
       "202009    1.517184e+10\n",
       "202010    1.621385e+10\n",
       "202011    1.549151e+10\n",
       "202012    1.845786e+10\n",
       "202101    1.789330e+10\n",
       "202102    1.437599e+10\n",
       "202103    1.566620e+10\n",
       "202104    1.553185e+10\n",
       "202105    1.543574e+10\n",
       "202106    1.562034e+10\n",
       "202107    1.678060e+10\n",
       "202108    1.706106e+10\n",
       "202109    1.816648e+10\n",
       "202110    2.007096e+10\n",
       "202111    8.656093e+09\n",
       "Name: 매출, dtype: float64"
      ]
     },
     "execution_count": 144,
     "metadata": {},
     "output_type": "execute_result"
    }
   ],
   "source": [
    "df_sum"
   ]
  },
  {
   "cell_type": "code",
   "execution_count": 177,
   "id": "b13db04d",
   "metadata": {},
   "outputs": [],
   "source": [
    "df_sum = df.groupby('yearmonth')['매출'].sum()\n",
    "i = 1\n",
    "df_ratio = []\n",
    "for i in range(len(df_sum)):\n",
    "    \n",
    "\n",
    "    a = (df_sum[i]/df_sum[i-1])\n",
    "    df_ratio.append(a)\n",
    "df_ratio.reverse()"
   ]
  },
  {
   "cell_type": "code",
   "execution_count": 179,
   "id": "9fc0b8e6",
   "metadata": {},
   "outputs": [
    {
     "data": {
      "text/plain": [
       "[0.4312745531767613,\n",
       " 1.1048349400710293,\n",
       " 1.0647920616774202,\n",
       " 1.0167131914395546,\n",
       " 1.074278948472584,\n",
       " 1.011959192309824,\n",
       " 0.9938115828024876,\n",
       " 0.9914244789717891,\n",
       " 1.0897476977666778,\n",
       " 0.8034286549089196,\n",
       " 0.9694132725888636,\n",
       " 1.1914827800072836,\n",
       " 0.9554492674615183,\n",
       " 1.0686803792825657,\n",
       " 0.9398114738579224,\n",
       " 1.0553485335845652,\n",
       " 0.9437607482618637,\n",
       " 0.9540609066950986,\n",
       " 1.0845605532481823,\n",
       " 0.9458828313302592,\n",
       " 1.0061024067662727,\n",
       " 0.9324053919288537,\n",
       " 2.039405059589927]"
      ]
     },
     "execution_count": 179,
     "metadata": {},
     "output_type": "execute_result"
    }
   ],
   "source": [
    "df_ratio"
   ]
  },
  {
   "cell_type": "code",
   "execution_count": 193,
   "id": "a12ead89",
   "metadata": {},
   "outputs": [
    {
     "ename": "ValueError",
     "evalue": "Shape of passed values is (23, 1), indices imply (21, 1)",
     "output_type": "error",
     "traceback": [
      "\u001b[1;31m---------------------------------------------------------------------------\u001b[0m",
      "\u001b[1;31mValueError\u001b[0m                                Traceback (most recent call last)",
      "\u001b[1;32m~\\AppData\\Local\\Temp/ipykernel_21552/321337205.py\u001b[0m in \u001b[0;36m<module>\u001b[1;34m\u001b[0m\n\u001b[1;32m----> 1\u001b[1;33m df_list = pd.DataFrame(df_ratio, index =['2020_03','2020_04','2020_05','2020_06','2020_07','2020_08','2020_09',\n\u001b[0m\u001b[0;32m      2\u001b[0m          \u001b[1;34m'2020_10'\u001b[0m\u001b[1;33m,\u001b[0m\u001b[1;34m'2020_11'\u001b[0m\u001b[1;33m,\u001b[0m\u001b[1;34m'2020_12'\u001b[0m\u001b[1;33m,\u001b[0m\u001b[1;34m'2021_01'\u001b[0m\u001b[1;33m,\u001b[0m\u001b[1;34m'2021_02'\u001b[0m\u001b[1;33m,\u001b[0m\u001b[1;34m'2021_03'\u001b[0m\u001b[1;33m,\u001b[0m\u001b[1;34m'2021_04'\u001b[0m\u001b[1;33m,\u001b[0m\u001b[1;34m'2021_05'\u001b[0m\u001b[1;33m,\u001b[0m\u001b[1;34m'2021_06'\u001b[0m\u001b[1;33m,\u001b[0m\u001b[1;33m\u001b[0m\u001b[1;33m\u001b[0m\u001b[0m\n\u001b[0;32m      3\u001b[0m          '2021_07','2021_08','2021_09','2021_10','2021_11'])\n\u001b[0;32m      4\u001b[0m \u001b[0mdf_list\u001b[0m\u001b[1;33m.\u001b[0m\u001b[0mplot\u001b[0m\u001b[1;33m.\u001b[0m\u001b[0mline\u001b[0m\u001b[1;33m(\u001b[0m\u001b[1;33m)\u001b[0m\u001b[1;33m\u001b[0m\u001b[1;33m\u001b[0m\u001b[0m\n",
      "\u001b[1;32m~\\anaconda3\\lib\\site-packages\\pandas\\core\\frame.py\u001b[0m in \u001b[0;36m__init__\u001b[1;34m(self, data, index, columns, dtype, copy)\u001b[0m\n\u001b[0;32m    709\u001b[0m                     )\n\u001b[0;32m    710\u001b[0m                 \u001b[1;32melse\u001b[0m\u001b[1;33m:\u001b[0m\u001b[1;33m\u001b[0m\u001b[1;33m\u001b[0m\u001b[0m\n\u001b[1;32m--> 711\u001b[1;33m                     mgr = ndarray_to_mgr(\n\u001b[0m\u001b[0;32m    712\u001b[0m                         \u001b[0mdata\u001b[0m\u001b[1;33m,\u001b[0m\u001b[1;33m\u001b[0m\u001b[1;33m\u001b[0m\u001b[0m\n\u001b[0;32m    713\u001b[0m                         \u001b[0mindex\u001b[0m\u001b[1;33m,\u001b[0m\u001b[1;33m\u001b[0m\u001b[1;33m\u001b[0m\u001b[0m\n",
      "\u001b[1;32m~\\anaconda3\\lib\\site-packages\\pandas\\core\\internals\\construction.py\u001b[0m in \u001b[0;36mndarray_to_mgr\u001b[1;34m(values, index, columns, dtype, copy, typ)\u001b[0m\n\u001b[0;32m    322\u001b[0m     )\n\u001b[0;32m    323\u001b[0m \u001b[1;33m\u001b[0m\u001b[0m\n\u001b[1;32m--> 324\u001b[1;33m     \u001b[0m_check_values_indices_shape_match\u001b[0m\u001b[1;33m(\u001b[0m\u001b[0mvalues\u001b[0m\u001b[1;33m,\u001b[0m \u001b[0mindex\u001b[0m\u001b[1;33m,\u001b[0m \u001b[0mcolumns\u001b[0m\u001b[1;33m)\u001b[0m\u001b[1;33m\u001b[0m\u001b[1;33m\u001b[0m\u001b[0m\n\u001b[0m\u001b[0;32m    325\u001b[0m \u001b[1;33m\u001b[0m\u001b[0m\n\u001b[0;32m    326\u001b[0m     \u001b[1;32mif\u001b[0m \u001b[0mtyp\u001b[0m \u001b[1;33m==\u001b[0m \u001b[1;34m\"array\"\u001b[0m\u001b[1;33m:\u001b[0m\u001b[1;33m\u001b[0m\u001b[1;33m\u001b[0m\u001b[0m\n",
      "\u001b[1;32m~\\anaconda3\\lib\\site-packages\\pandas\\core\\internals\\construction.py\u001b[0m in \u001b[0;36m_check_values_indices_shape_match\u001b[1;34m(values, index, columns)\u001b[0m\n\u001b[0;32m    391\u001b[0m         \u001b[0mpassed\u001b[0m \u001b[1;33m=\u001b[0m \u001b[0mvalues\u001b[0m\u001b[1;33m.\u001b[0m\u001b[0mshape\u001b[0m\u001b[1;33m\u001b[0m\u001b[1;33m\u001b[0m\u001b[0m\n\u001b[0;32m    392\u001b[0m         \u001b[0mimplied\u001b[0m \u001b[1;33m=\u001b[0m \u001b[1;33m(\u001b[0m\u001b[0mlen\u001b[0m\u001b[1;33m(\u001b[0m\u001b[0mindex\u001b[0m\u001b[1;33m)\u001b[0m\u001b[1;33m,\u001b[0m \u001b[0mlen\u001b[0m\u001b[1;33m(\u001b[0m\u001b[0mcolumns\u001b[0m\u001b[1;33m)\u001b[0m\u001b[1;33m)\u001b[0m\u001b[1;33m\u001b[0m\u001b[1;33m\u001b[0m\u001b[0m\n\u001b[1;32m--> 393\u001b[1;33m         \u001b[1;32mraise\u001b[0m \u001b[0mValueError\u001b[0m\u001b[1;33m(\u001b[0m\u001b[1;34mf\"Shape of passed values is {passed}, indices imply {implied}\"\u001b[0m\u001b[1;33m)\u001b[0m\u001b[1;33m\u001b[0m\u001b[1;33m\u001b[0m\u001b[0m\n\u001b[0m\u001b[0;32m    394\u001b[0m \u001b[1;33m\u001b[0m\u001b[0m\n\u001b[0;32m    395\u001b[0m \u001b[1;33m\u001b[0m\u001b[0m\n",
      "\u001b[1;31mValueError\u001b[0m: Shape of passed values is (23, 1), indices imply (21, 1)"
     ]
    }
   ],
   "source": [
    "df_list = pd.DataFrame(df_ratio, index =['2020_02','2020_03','2020_04','2020_05','2020_06','2020_07','2020_08','2020_09',\n",
    "         '2020_10','2020_11','2020_12','2021_01','2021_02','2021_03','2021_04','2021_05','2021_06',\n",
    "         '2021_07','2021_08','2021_09','2021_10','2021_11'])\n",
    "df_list.plot.line()"
   ]
  },
  {
   "cell_type": "code",
   "execution_count": null,
   "id": "1292430d",
   "metadata": {},
   "outputs": [],
   "source": []
  },
  {
   "cell_type": "code",
   "execution_count": null,
   "id": "bf86f85d",
   "metadata": {},
   "outputs": [],
   "source": []
  }
 ],
 "metadata": {
  "kernelspec": {
   "display_name": "Python 3 (ipykernel)",
   "language": "python",
   "name": "python3"
  },
  "language_info": {
   "codemirror_mode": {
    "name": "ipython",
    "version": 3
   },
   "file_extension": ".py",
   "mimetype": "text/x-python",
   "name": "python",
   "nbconvert_exporter": "python",
   "pygments_lexer": "ipython3",
   "version": "3.9.7"
  }
 },
 "nbformat": 4,
 "nbformat_minor": 5
}
